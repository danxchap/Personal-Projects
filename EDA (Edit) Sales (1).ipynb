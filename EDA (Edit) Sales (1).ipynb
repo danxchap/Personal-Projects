{
 "cells": [
  {
   "cell_type": "markdown",
   "id": "87c58f2b-9eb2-4232-8f07-03d0c2dfaea1",
   "metadata": {},
   "source": [
    "# <h1><center>Sales Analysis and Visualization</center></h1>"
   ]
  },
  {
   "cell_type": "markdown",
   "id": "d291026d-5b2f-48e0-804a-9d9ad743ff8b",
   "metadata": {},
   "source": [
    "## Outline"
   ]
  },
  {
   "cell_type": "markdown",
   "id": "ac0b7017-cc6e-4217-a579-f750faf47e3d",
   "metadata": {},
   "source": [
    "This notebook provides an analysis on retail and warehouse sales. The data contains 307,645 sales records and 9 columns, including retail sales, warehouse sales, name of suppliers, and item descriptions.\n",
    "\n",
    "The cleaning and formatting process includes:\n",
    "\n",
    "- filling missing data\n",
    "- checking fior duplicate records\n",
    "- dropping highly correlated columns\n",
    "- formatting the date\n",
    "\n",
    "The analysis answers a variety of business questions such as:\n",
    "\n",
    "- Which item sold the most in quantity?\n",
    "- What is the overall sales trend per month and per year?\n",
    "- Which suppliers had the most profit in retail and warehouse sales?\n",
    "- Which item types had the most profit in retail and warehouse sales?\n",
    "- Which item had the most profit in retail and warehouse sales?\n",
    "\n",
    "Most of the data visualizations are done using Plotly express because of their interactive capabilities. Seaborn is also used to create heatmaps."
   ]
  },
  {
   "cell_type": "markdown",
   "id": "b5f70df3-fcf9-4e2a-a128-8346039eacf1",
   "metadata": {},
   "source": [
    "---"
   ]
  },
  {
   "cell_type": "markdown",
   "id": "a8986f0c-f6e7-48a2-bbed-97ab67c209fb",
   "metadata": {
    "tags": []
   },
   "source": [
    "### What is the source of the data?"
   ]
  },
  {
   "cell_type": "markdown",
   "id": "ec27d4f3-7f0e-4955-9b2a-bfa9a6a244f0",
   "metadata": {
    "tags": []
   },
   "source": [
    "#### This data was acquired at: https://catalog.data.gov/dataset/warehouse-and-retail-sales"
   ]
  },
  {
   "cell_type": "markdown",
   "id": "262e736f-850c-473b-a89f-b3a09e98f33c",
   "metadata": {},
   "source": [
    "### Import libraries"
   ]
  },
  {
   "cell_type": "code",
   "execution_count": null,
   "id": "1442a856-26cd-4561-a284-126d8548b0f6",
   "metadata": {},
   "outputs": [],
   "source": [
    "import pandas as pd\n",
    "import os\n",
    "import seaborn as sns"
   ]
  },
  {
   "cell_type": "code",
   "execution_count": null,
   "id": "b62b591f-1f29-404f-8474-3d3cda0ad1b7",
   "metadata": {},
   "outputs": [],
   "source": [
    "pwd = os.getcwd()"
   ]
  },
  {
   "cell_type": "code",
   "execution_count": null,
   "id": "225161cd-523b-461e-95d9-27599efd6d05",
   "metadata": {},
   "outputs": [],
   "source": [
    "sales_data = pd.read_csv(pwd + \"\\\\Warehouse_and_Retail_Sales.csv\")"
   ]
  },
  {
   "cell_type": "markdown",
   "id": "e7dfe0f8-02d4-48f9-b4ed-c1dfebb09178",
   "metadata": {},
   "source": [
    "### What is the size of the dataset?"
   ]
  },
  {
   "cell_type": "code",
   "execution_count": null,
   "id": "74ea8f38-3cc9-4415-969c-a62296734728",
   "metadata": {},
   "outputs": [],
   "source": [
    "shape = sales_data.shape\n",
    "print(f\"There are {shape[0]} rows and {shape[1]} columns.\")\n",
    "print(f\"{shape[0]*shape[1]} total elements.\")"
   ]
  },
  {
   "cell_type": "markdown",
   "id": "63504e5b-c091-49de-829d-56efff8a8567",
   "metadata": {},
   "source": [
    "### What are the columns of the dataset?"
   ]
  },
  {
   "cell_type": "code",
   "execution_count": null,
   "id": "54d3ca1e-0e3d-4f12-80cb-9118e9e302b9",
   "metadata": {},
   "outputs": [],
   "source": [
    "list(sales_data.columns)"
   ]
  },
  {
   "cell_type": "markdown",
   "id": "7e95abe6-f3cf-4034-b3c8-8f66b5855e3f",
   "metadata": {},
   "source": [
    "### What are the data types of the column variables?"
   ]
  },
  {
   "cell_type": "code",
   "execution_count": null,
   "id": "111c6020-ebcf-4787-8c42-a3ad4c4d693a",
   "metadata": {},
   "outputs": [],
   "source": [
    "sales_data.info()"
   ]
  },
  {
   "cell_type": "markdown",
   "id": "f4508d3a-107d-4441-b1bd-a4afe48ba6ca",
   "metadata": {},
   "source": [
    "### Is there missing data in the dataset?"
   ]
  },
  {
   "cell_type": "code",
   "execution_count": null,
   "id": "9b5b0b3f-d1da-4812-8dbe-8a3ccaaa0dc8",
   "metadata": {},
   "outputs": [],
   "source": [
    "sales_data.isnull().sum()"
   ]
  },
  {
   "cell_type": "code",
   "execution_count": null,
   "id": "61319986-6263-4122-8203-d7686577abd7",
   "metadata": {},
   "outputs": [],
   "source": [
    "print(f\"There is {round(sales_data.isnull().sum().sum()/2768805,4)}% missing data in this dataset.\")"
   ]
  },
  {
   "cell_type": "markdown",
   "id": "29bb4af2-286e-4048-b00d-7c7ae805291e",
   "metadata": {
    "tags": []
   },
   "source": [
    "### Create a filter that only shows the rows that have missing values"
   ]
  },
  {
   "cell_type": "markdown",
   "id": "b3573ec1-9c36-46e2-9342-fb2b57a365c8",
   "metadata": {},
   "source": [
    "#### Missing values for \"SUPPLIER\""
   ]
  },
  {
   "cell_type": "code",
   "execution_count": null,
   "id": "fa77a23e-c4e2-4475-adc9-a23d1fefeef8",
   "metadata": {},
   "outputs": [],
   "source": [
    "supplier_nan = pd.isnull(sales_data[\"SUPPLIER\"])\n",
    "sales_data[supplier_nan]"
   ]
  },
  {
   "cell_type": "markdown",
   "id": "965fde39-6a00-4e0f-9c33-0165173eb964",
   "metadata": {},
   "source": [
    "#### Missing values for \"ITEM TYPE\""
   ]
  },
  {
   "cell_type": "code",
   "execution_count": null,
   "id": "b21389ef-3d72-48a0-b9c2-235db8d39cba",
   "metadata": {},
   "outputs": [],
   "source": [
    "item_type_nan = pd.isnull(sales_data[\"ITEM TYPE\"])\n",
    "sales_data[item_type_nan]"
   ]
  },
  {
   "cell_type": "markdown",
   "id": "63138fae-b14e-46c0-8a89-58a256c32c5d",
   "metadata": {},
   "source": [
    "#### Missing values for \"RETAIL SALES\""
   ]
  },
  {
   "cell_type": "code",
   "execution_count": null,
   "id": "530d13a2-acac-46f7-8111-9f5adb3d210d",
   "metadata": {},
   "outputs": [],
   "source": [
    "retail_nan = pd.isnull(sales_data[\"RETAIL SALES\"])\n",
    "sales_data[retail_nan]"
   ]
  },
  {
   "cell_type": "markdown",
   "id": "6c0e2980-6495-4cdb-93ca-a049f6a3cec4",
   "metadata": {},
   "source": [
    "### Fill missing data, impute mode values for categorical data and mean values for numerical data"
   ]
  },
  {
   "cell_type": "code",
   "execution_count": null,
   "id": "f7f8df5e-f378-4dbe-a6a5-3de2f1a78990",
   "metadata": {},
   "outputs": [],
   "source": [
    "sales_data[\"SUPPLIER\"].fillna(sales_data[\"SUPPLIER\"].mode().iloc[0], inplace=True)\n",
    "\n",
    "sales_data[\"ITEM TYPE\"].fillna(sales_data[\"ITEM TYPE\"].mode().iloc[0], inplace=True)\n",
    "\n",
    "sales_data[\"RETAIL SALES\"].fillna(sales_data[\"RETAIL SALES\"].mean(), inplace=True)\n",
    "\n",
    "sales_data.isnull().sum()"
   ]
  },
  {
   "cell_type": "markdown",
   "id": "8cd1203f-ebe0-4d0c-b9fc-1da49f373e9d",
   "metadata": {},
   "source": [
    "### Check on rows that previously had missing data to ensure the imputation process worked"
   ]
  },
  {
   "cell_type": "markdown",
   "id": "ae76e363-4c51-40d3-ad29-e64514642132",
   "metadata": {},
   "source": [
    "#### SUPPLIER imputation check"
   ]
  },
  {
   "cell_type": "code",
   "execution_count": null,
   "id": "ebfe07e4-1f84-40d7-bc1a-caee16746a58",
   "metadata": {},
   "outputs": [],
   "source": [
    "sales_data[supplier_nan]"
   ]
  },
  {
   "cell_type": "markdown",
   "id": "5ac651f8-2b79-45f6-87bd-6d7291a23463",
   "metadata": {},
   "source": [
    "#### RETAIL SALES imputation check"
   ]
  },
  {
   "cell_type": "code",
   "execution_count": null,
   "id": "355113d5-bc1f-45cb-a091-5456919e7e5b",
   "metadata": {},
   "outputs": [],
   "source": [
    "sales_data[retail_nan]"
   ]
  },
  {
   "cell_type": "markdown",
   "id": "ad6ca85c-e81c-4279-8fcc-4801acd899ca",
   "metadata": {},
   "source": [
    "#### ITEM TYPE imputation check"
   ]
  },
  {
   "cell_type": "code",
   "execution_count": null,
   "id": "aab0d8ad-e06f-4629-bcb5-01b1c7a55748",
   "metadata": {},
   "outputs": [],
   "source": [
    "sales_data[item_type_nan]"
   ]
  },
  {
   "cell_type": "markdown",
   "id": "c5adb2a6-7857-422c-9f1c-713402e1e5b0",
   "metadata": {},
   "source": [
    "### Duplicates (no duplicate records found)"
   ]
  },
  {
   "cell_type": "code",
   "execution_count": null,
   "id": "efad9b13-5bcd-4a32-a4ae-ae5b56c23099",
   "metadata": {},
   "outputs": [],
   "source": [
    "sales_data[sales_data.duplicated()]"
   ]
  },
  {
   "cell_type": "markdown",
   "id": "d041c70a-253b-4e50-aa1e-9b2f34f0bd4a",
   "metadata": {},
   "source": [
    "### Exploring Feature Correlations: Heatmap Analysis"
   ]
  },
  {
   "cell_type": "code",
   "execution_count": null,
   "id": "7ac7ffa1-7254-4fe4-aca0-a368f5cd28e0",
   "metadata": {},
   "outputs": [],
   "source": [
    "sns.heatmap(sales_data.corr(),annot = True)"
   ]
  },
  {
   "cell_type": "markdown",
   "id": "abd2aeac-814c-465b-968a-0dbb1ae8f32e",
   "metadata": {},
   "source": [
    "#### Retail Transfers and Retail Sales are highly correlated (96%), let's drop Retail Transfers since we're more curious about the sales"
   ]
  },
  {
   "cell_type": "code",
   "execution_count": null,
   "id": "a9e4ee7d-e43a-45a6-bfc9-014800616ecf",
   "metadata": {},
   "outputs": [],
   "source": [
    "sales_data.drop(columns= \"RETAIL TRANSFERS\", inplace = True)\n",
    "sales_data.head()"
   ]
  },
  {
   "cell_type": "markdown",
   "id": "34265d80-38cd-4a11-b83e-68330cfaa37e",
   "metadata": {},
   "source": [
    "### Data Formatting"
   ]
  },
  {
   "cell_type": "markdown",
   "id": "e4e36321-84d2-48de-a32e-fcb047d7d3aa",
   "metadata": {},
   "source": [
    "#### Formatting the date"
   ]
  },
  {
   "cell_type": "code",
   "execution_count": null,
   "id": "cc2e6177-b919-4d86-8965-a8adf9f31ebe",
   "metadata": {},
   "outputs": [],
   "source": [
    "#Format the new date in new column\n",
    "sales_data[\"DATE\"] = pd.to_datetime(sales_data[\"MONTH\"].astype(str) + ' ' + sales_data[\"YEAR\"].astype(str), format='%m %Y')\n",
    "\n",
    "#Drop old date columns\n",
    "sales_data.drop(columns = [\"YEAR\", \"MONTH\"], inplace = True)\n",
    "\n",
    "#Reorder columns\n",
    "sales_data = sales_data.loc[:,[\"DATE\", \"SUPPLIER\", \"ITEM CODE\", \"ITEM DESCRIPTION\", \"ITEM TYPE\", \"RETAIL SALES\", \"WAREHOUSE SALES\"]]\n",
    "sales_data.head()"
   ]
  },
  {
   "cell_type": "markdown",
   "id": "f991b822-a137-469e-9bfa-c4fe8edd712d",
   "metadata": {},
   "source": [
    "#### Sorting Data by date"
   ]
  },
  {
   "cell_type": "code",
   "execution_count": null,
   "id": "77bafcb6-f86f-422f-bb39-b04d33b81b01",
   "metadata": {},
   "outputs": [],
   "source": [
    "sd_sorted_date = sales_data.sort_values(\"DATE\")\n",
    "sales_data  = sd_sorted_date\n",
    "sales_data.head()"
   ]
  },
  {
   "cell_type": "markdown",
   "id": "efb4c578-4d10-47a8-931d-ad9ec1f3811e",
   "metadata": {},
   "source": [
    "### Univariate Analysis"
   ]
  },
  {
   "cell_type": "code",
   "execution_count": null,
   "id": "cbcc5a5b-e9dd-43b3-88a0-06ddab512382",
   "metadata": {},
   "outputs": [],
   "source": [
    "import plotly.express as px"
   ]
  },
  {
   "cell_type": "markdown",
   "id": "b7b2ccf8-d1ae-4e26-9562-b922b6dc32c5",
   "metadata": {},
   "source": [
    "\n",
    "#### Visualization of most occuring suppliers descending from most to least "
   ]
  },
  {
   "cell_type": "code",
   "execution_count": null,
   "id": "b5336370-aea1-4563-9353-48caae0649b3",
   "metadata": {},
   "outputs": [],
   "source": [
    "fig1 = px.histogram(sales_data, x=\"SUPPLIER\").update_xaxes(categoryorder='total descending')\n",
    "fig1.show()"
   ]
  },
  {
   "cell_type": "markdown",
   "id": "0c13d1a9-52a4-4f54-8391-9bd94940b4fa",
   "metadata": {},
   "source": [
    "#### Who are the top 5 occurring suppliers?"
   ]
  },
  {
   "cell_type": "code",
   "execution_count": null,
   "id": "81a6c8f2-4722-487b-8094-488fd32d4757",
   "metadata": {},
   "outputs": [],
   "source": [
    "print(\"Top 5 suppliers who sold the most: \")\n",
    "sales_data[\"SUPPLIER\"].value_counts()[0:5]"
   ]
  },
  {
   "cell_type": "markdown",
   "id": "55bbca2a-def2-4e49-ba27-a7adb177bd4e",
   "metadata": {},
   "source": [
    "#### Bottom 5 occuring suppliers?"
   ]
  },
  {
   "cell_type": "code",
   "execution_count": null,
   "id": "75d263b8-65f6-4e16-9f96-1d0b8cf1c636",
   "metadata": {},
   "outputs": [],
   "source": [
    "print(\"Top 5 suppliers who sold the least: \")\n",
    "sales_data[\"SUPPLIER\"].value_counts()[len(sales_data[\"SUPPLIER\"].value_counts())-5:len(sales_data[\"SUPPLIER\"].value_counts())]"
   ]
  },
  {
   "cell_type": "markdown",
   "id": "6e044f1d-571d-405e-977b-35fd48c4ab02",
   "metadata": {},
   "source": [
    "#### Which item sold the most in quantity?"
   ]
  },
  {
   "cell_type": "code",
   "execution_count": null,
   "id": "17ff4cfc-724a-48ed-a85d-9fdb5ef024c6",
   "metadata": {},
   "outputs": [],
   "source": [
    "fig2 = px.histogram(sales_data, x=\"ITEM DESCRIPTION\").update_xaxes(categoryorder='total descending')\n",
    "fig2.update_layout(bargap=.5)\n",
    "fig2.show()"
   ]
  },
  {
   "cell_type": "markdown",
   "id": "920d9f15-b0de-4da1-9855-0b1e2628f046",
   "metadata": {},
   "source": [
    "#### Top 5 items sold"
   ]
  },
  {
   "cell_type": "code",
   "execution_count": null,
   "id": "5c9e7934-35e2-4740-9283-e131051c8bb7",
   "metadata": {},
   "outputs": [],
   "source": [
    "print(\"Top 5 items sold: \")\n",
    "sales_data[\"ITEM DESCRIPTION\"].value_counts()[0:5]"
   ]
  },
  {
   "cell_type": "markdown",
   "id": "ccbbca24-0b7f-474e-b73c-374413c52b13",
   "metadata": {},
   "source": [
    "####  Bottom 5 items sold"
   ]
  },
  {
   "cell_type": "code",
   "execution_count": null,
   "id": "36217324-b1a8-4160-b963-55b7c48b696c",
   "metadata": {},
   "outputs": [],
   "source": [
    "print(\"Bottom 5 items sold: \")\n",
    "sales_data[\"ITEM DESCRIPTION\"].value_counts()[len(sales_data[\"ITEM DESCRIPTION\"].value_counts())-5:len(sales_data[\"ITEM DESCRIPTION\"].value_counts())]"
   ]
  },
  {
   "cell_type": "markdown",
   "id": "8a9b9ea5-e2f1-4589-be42-1e1c20703b7c",
   "metadata": {},
   "source": [
    "#### Which item type sold the most in quantity?"
   ]
  },
  {
   "cell_type": "code",
   "execution_count": null,
   "id": "763d8c2e-b7b2-4341-9d88-24b2866fee1d",
   "metadata": {},
   "outputs": [],
   "source": [
    "fig3 = px.histogram(sales_data, x=\"ITEM TYPE\").update_xaxes(categoryorder='total descending')\n",
    "fig3.update_layout(bargap=.5)\n",
    "fig3.show()"
   ]
  },
  {
   "cell_type": "markdown",
   "id": "c0e9fe92-c03b-42bf-8902-54bc8b9e63af",
   "metadata": {},
   "source": [
    "#### Top 4 item types sold"
   ]
  },
  {
   "cell_type": "code",
   "execution_count": null,
   "id": "cf46197b-326c-4024-872a-482e1a9be5b0",
   "metadata": {},
   "outputs": [],
   "source": [
    "print(\"Top 4 item types sold: \")\n",
    "sales_data[\"ITEM TYPE\"].value_counts()[0:4]"
   ]
  },
  {
   "cell_type": "markdown",
   "id": "e3a39dcb-f9b7-4af1-b895-f32a94badb0e",
   "metadata": {},
   "source": [
    "#### Bottom 4 item types sold"
   ]
  },
  {
   "cell_type": "code",
   "execution_count": null,
   "id": "0b7e0d49-3552-4447-bdf0-e42a342a9673",
   "metadata": {},
   "outputs": [],
   "source": [
    "print(\"Bottom 4 items least sold: \")\n",
    "sales_data[\"ITEM TYPE\"].value_counts()[len(sales_data[\"ITEM TYPE\"].value_counts())-4:len(sales_data[\"ITEM TYPE\"].value_counts())]"
   ]
  },
  {
   "cell_type": "markdown",
   "id": "1e39c6d3-1f92-4b6c-b84c-4641cf7be9f1",
   "metadata": {},
   "source": [
    "#### Statistics on retail sales and warehouse sales"
   ]
  },
  {
   "cell_type": "code",
   "execution_count": null,
   "id": "c3d1338b-afbe-4db7-a864-0794241cce09",
   "metadata": {},
   "outputs": [],
   "source": [
    "sales_data[\"RETAIL SALES\"].describe()"
   ]
  },
  {
   "cell_type": "code",
   "execution_count": null,
   "id": "13c18934-6cd0-4da1-82d3-4b2aba76b7c6",
   "metadata": {},
   "outputs": [],
   "source": [
    "sales_data[\"WAREHOUSE SALES\"].describe()"
   ]
  },
  {
   "cell_type": "markdown",
   "id": "b006f7f8-90a5-4785-b9a8-5b3552e4dc68",
   "metadata": {},
   "source": [
    "## Bivariate Analysis"
   ]
  },
  {
   "cell_type": "markdown",
   "id": "3be06c96-0713-4c6b-885c-c4228496630a",
   "metadata": {},
   "source": [
    "### What is the overall sales trend per month?"
   ]
  },
  {
   "cell_type": "markdown",
   "id": "ce91ebc5-8156-44f2-b70f-c3da374b7c08",
   "metadata": {},
   "source": [
    "#### Group the retail and warehouse sales by month and sum them"
   ]
  },
  {
   "cell_type": "code",
   "execution_count": null,
   "id": "f2467bb0-0b72-4662-b403-a2fdf6124790",
   "metadata": {},
   "outputs": [],
   "source": [
    "sales_per_month = sales_data.groupby(pd.Grouper(key='DATE', freq='M')).sum()\n",
    "retail_per_month = sales_per_month[\"RETAIL SALES\"]\n",
    "\n",
    "ware_per_month = sales_per_month[\"WAREHOUSE SALES\"]\n",
    "month = sales_per_month.index"
   ]
  },
  {
   "cell_type": "markdown",
   "id": "9cc6370f-7e87-4997-9e76-df5333766639",
   "metadata": {},
   "source": [
    "#### Retail/Warehouse Visualization"
   ]
  },
  {
   "cell_type": "code",
   "execution_count": null,
   "id": "1c1d77c2-5d71-4a0c-a700-8fada48c000b",
   "metadata": {},
   "outputs": [],
   "source": [
    "fig2 = px.line(sales_per_month, x=month, y=[retail_per_month,ware_per_month])\n",
    "\n",
    "fig2.update_layout(width=1000, title={\n",
    "    \"text\": \"Retail/Warehouse Sales per Month (4 Years)\",\n",
    "    \"x\": 0.5,\n",
    "    \"y\": 0.95,\n",
    "    \"xanchor\": \"center\",\n",
    "    \"yanchor\": \"top\"\n",
    "}, \n",
    "    xaxis_title = \"Month\",\n",
    "    yaxis_title=\"Total Sales\"\n",
    "                  )\n",
    "fig2.show()"
   ]
  },
  {
   "cell_type": "markdown",
   "id": "66ff6ff0-7dd4-4e3b-ab07-3d848450a22e",
   "metadata": {},
   "source": [
    "### What is the overall sales trend per year?"
   ]
  },
  {
   "cell_type": "markdown",
   "id": "4eea16d8-efb5-40d8-86a7-63d5283212ab",
   "metadata": {},
   "source": [
    "#### Group the retail and warehouse sales by year and sum them"
   ]
  },
  {
   "cell_type": "code",
   "execution_count": null,
   "id": "c30de3b2-0246-4fe7-9326-42293b59807f",
   "metadata": {},
   "outputs": [],
   "source": [
    "sales_per_year = sales_data.groupby(pd.Grouper(key='DATE', freq='Y')).sum()\n",
    "retail_per_year = sales_per_year[\"RETAIL SALES\"]\n",
    "\n",
    "ware_per_year = sales_per_year[\"WAREHOUSE SALES\"]\n",
    "year = sales_per_year.index"
   ]
  },
  {
   "cell_type": "markdown",
   "id": "c8fb480f-8992-4bb3-8fd0-177106659a4f",
   "metadata": {},
   "source": [
    "#### Retail/Warehouse Visualization"
   ]
  },
  {
   "cell_type": "code",
   "execution_count": null,
   "id": "5245187e-95aa-4c57-a6d1-d6d9e0932b89",
   "metadata": {},
   "outputs": [],
   "source": [
    "fig3 = px.line(sales_per_year, x=year, y=[retail_per_year,ware_per_year])\n",
    "\n",
    "fig3.update_layout(width=50, title={\n",
    "    \"text\": \"Retail/Warehouse Sales Per Year\",\n",
    "    \"x\": 0.5,\n",
    "    \"y\": 0.95,\n",
    "    \"xanchor\": \"center\",\n",
    "    \"yanchor\": \"top\"\n",
    "}, \n",
    "    xaxis_title = \"Time\",\n",
    "    yaxis_title=\"Total Sales\"\n",
    "                  )\n",
    "fig3.show()"
   ]
  },
  {
   "cell_type": "markdown",
   "id": "4e5c7f45-bd3f-4cb5-accc-1dda03ee5dfb",
   "metadata": {},
   "source": [
    "### Which suppliers had the most profit in retail sales?"
   ]
  },
  {
   "cell_type": "code",
   "execution_count": null,
   "id": "e5c4c385-1133-4e4d-8f81-5f0320c8139d",
   "metadata": {},
   "outputs": [],
   "source": [
    "rsupplier_sales_data = sales_data.groupby(\"SUPPLIER\")[\"RETAIL SALES\"].sum().sort_values(ascending = False)\n",
    "wsupplier_sales_data = sales_data.groupby(\"SUPPLIER\")[\"WAREHOUSE SALES\"].sum().sort_values(ascending = False)\n",
    "\n",
    "rsupplier = rsupplier_sales_data.index\n",
    "rsupplier_sales = rsupplier_sales_data.values\n",
    "\n",
    "wsupplier = wsupplier_sales_data.index\n",
    "wsupplier_sales = wsupplier_sales_data.values\n",
    "\n",
    "#There are numerous suppliers so let's only focus on the top 20%\n",
    "percent = .2\n",
    "cutoff = int(round(percent * len(rsupplier_sales_data),0))\n",
    "rsupplier = rsupplier[0:cutoff]\n",
    "rsupplier_sales = rsupplier_sales[0:cutoff]\n",
    "\n",
    "wsupplier = wsupplier[0:cutoff]\n",
    "wsupplier_sales = wsupplier_sales[0:cutoff]"
   ]
  },
  {
   "cell_type": "code",
   "execution_count": null,
   "id": "8f733db7-8edb-4d7c-a917-f2dd9e1d39e3",
   "metadata": {
    "tags": []
   },
   "outputs": [],
   "source": [
    "fig4 = px.bar(x=rsupplier, y=rsupplier_sales)\n",
    "\n",
    "fig4.update_layout(\n",
    "    title='Supplier Retail Sales (Top 20%)',\n",
    "    xaxis_title='Suppliers',\n",
    "    yaxis_title='Retail Sales'\n",
    ")\n",
    "\n",
    "fig4.show()"
   ]
  },
  {
   "cell_type": "code",
   "execution_count": null,
   "id": "d6769ca1-da39-4088-9757-a6151cd8b22f",
   "metadata": {},
   "outputs": [],
   "source": [
    "print(f'Top 5 Suppliers by Retail Sales: \\n{rsupplier_sales_data[0:5]}')"
   ]
  },
  {
   "cell_type": "code",
   "execution_count": null,
   "id": "4365be5b-77aa-4b86-a895-118669ca6f04",
   "metadata": {},
   "outputs": [],
   "source": [
    "print(f'Bottom 5 Suppliers by Retail Sales: \\n{rsupplier_sales_data[len(rsupplier_sales_data)-5:len(rsupplier_sales_data)]}')"
   ]
  },
  {
   "cell_type": "markdown",
   "id": "f1b478e1-6062-4521-851a-024233fe12aa",
   "metadata": {},
   "source": [
    "### Which suppliers had the most profit in warehouse sales?"
   ]
  },
  {
   "cell_type": "code",
   "execution_count": null,
   "id": "6fc821cb-072c-45d2-b342-7da284b15b33",
   "metadata": {},
   "outputs": [],
   "source": [
    "fig5 = px.histogram(x=wsupplier, y=wsupplier_sales)\n",
    "\n",
    "fig5.update_layout(\n",
    "    title='Supplier Warehouse Sales (Top 20%)',\n",
    "    xaxis_title='Suppliers',\n",
    "    yaxis_title='Warehouse Sales'\n",
    ")\n",
    "\n",
    "fig5.show()"
   ]
  },
  {
   "cell_type": "code",
   "execution_count": null,
   "id": "267d0b15-734d-427f-ad68-dcea2d9d4ab8",
   "metadata": {},
   "outputs": [],
   "source": [
    "print(f'Top 5 Suppliers by Warehouse Sales: \\n{wsupplier_sales_data[0:5]}')"
   ]
  },
  {
   "cell_type": "code",
   "execution_count": null,
   "id": "35ad1d2e-47c7-4219-8c59-010c54b2f7cb",
   "metadata": {},
   "outputs": [],
   "source": [
    "print(f'Bottom 5 Suppliers by Warehouse Sales: \\n{wsupplier_sales_data[len(wsupplier_sales_data)-5:len(wsupplier_sales_data)]}')"
   ]
  },
  {
   "cell_type": "markdown",
   "id": "46710f0c-c4d5-4db0-8455-143d48340c23",
   "metadata": {},
   "source": [
    "#### Which item type had the most profit in retail sales?"
   ]
  },
  {
   "cell_type": "code",
   "execution_count": null,
   "id": "7c337c03-2d0b-4294-81a7-be05c11bec0e",
   "metadata": {
    "tags": []
   },
   "outputs": [],
   "source": [
    "rtype_sales_data = sales_data.groupby(\"ITEM TYPE\")[\"RETAIL SALES\"].sum().sort_values(ascending = False)\n",
    "rtype = rtype_sales_data.index\n",
    "rtype_sales = rtype_sales_data.values"
   ]
  },
  {
   "cell_type": "code",
   "execution_count": null,
   "id": "aaca7181-21fe-4a6c-9f46-50a6c1e66234",
   "metadata": {
    "tags": []
   },
   "outputs": [],
   "source": [
    "fig4 = px.bar(x=rtype, y=rtype_sales)\n",
    "\n",
    "fig4.update_layout(\n",
    "    title='Item Type Retail Sales',\n",
    "    xaxis_title='Item Type',\n",
    "    yaxis_title='Retail Sales'\n",
    ")\n",
    "\n",
    "fig4.show()"
   ]
  },
  {
   "cell_type": "markdown",
   "id": "65d9e831-be94-4b05-9530-1b2150e615f2",
   "metadata": {},
   "source": [
    "#### Which item type had the most profit in warehouse sales?"
   ]
  },
  {
   "cell_type": "code",
   "execution_count": null,
   "id": "7dcd4390-1fce-4176-8625-b281dfb470ce",
   "metadata": {},
   "outputs": [],
   "source": [
    "wtype = wtype_sales_data.index\n",
    "wtype_sales = wtype_sales_data.values\n",
    "wtype_sales_data = sales_data.groupby(\"ITEM TYPE\")[\"WAREHOUSE SALES\"].sum().sort_values(ascending = False)"
   ]
  },
  {
   "cell_type": "code",
   "execution_count": null,
   "id": "18a0c726-5422-48ca-bf02-e2b7b19e0a59",
   "metadata": {},
   "outputs": [],
   "source": [
    "fig5 = px.histogram(x=wtype, y=wtype_sales)\n",
    "\n",
    "fig5.update_layout(\n",
    "    title='Item Type Warehouse Sales',\n",
    "    xaxis_title='Item Type',\n",
    "    yaxis_title='Warehouse Sales'\n",
    ")\n",
    "\n",
    "fig5.show()"
   ]
  },
  {
   "cell_type": "markdown",
   "id": "f2314ab1-8c0f-4be9-a6d3-08d45fdb4478",
   "metadata": {},
   "source": [
    "#### Which item had the most profit in retail sales? Warehouse sales?"
   ]
  },
  {
   "cell_type": "code",
   "execution_count": null,
   "id": "ffcd91ff-a829-4a14-8dd4-f0edd3a7244c",
   "metadata": {
    "tags": []
   },
   "outputs": [],
   "source": [
    "rdesc_sales_data = sales_data.groupby(\"ITEM DESCRIPTION\")[\"RETAIL SALES\"].sum().sort_values(ascending = False)\n",
    "wdesc_sales_data = sales_data.groupby(\"ITEM DESCRIPTION\")[\"WAREHOUSE SALES\"].sum().sort_values(ascending = False)\n",
    "\n",
    "#There are a lot of Item Descriptions, difficult for visualization to handle. This will cut it down to 1% of the data\n",
    "percent = .01\n",
    "cutoff = int(round(percent * len(rdesc_sales_data),0))\n",
    "\n",
    "rdesc_sales_cut = rdesc_sales_data[0:cutoff]\n",
    "wdesc_sales_cut = wdesc_sales_data[0:cutoff]\n",
    "\n",
    "#Assign 1% of item description data to rdesc\n",
    "rdesc = rdesc_sales_cut.index\n",
    "\n",
    "#Assign retail sales to redesc_sales\n",
    "rdesc_sales = list(rdesc_sales_cut)\n",
    "\n",
    "#supplier_rsales_data[supplier_rsales_data.values > 1]\n",
    "\n",
    "wdesc = wdesc_sales_cut.index\n",
    "wdesc_sales = wdesc_sales_cut.values"
   ]
  },
  {
   "cell_type": "code",
   "execution_count": null,
   "id": "9ee8955e-0bdf-4b8a-9652-f5d1ccd089f7",
   "metadata": {},
   "outputs": [],
   "source": [
    "fig5 = px.bar(x=rdesc, y=rdesc_sales)\n",
    "\n",
    "fig5.update_layout(\n",
    "    title='Item Description by Retail Sales (Top 1%)',\n",
    "    xaxis_title='Item Description',\n",
    "    yaxis_title='Retail Sales'\n",
    ")\n",
    "\n",
    "fig5.show()"
   ]
  },
  {
   "cell_type": "code",
   "execution_count": null,
   "id": "9428d0bb-8124-4b21-95d2-7e864392187a",
   "metadata": {},
   "outputs": [],
   "source": [
    "print(f'Top 5 Item Descriptions by Retail Sales: \\n{rdesc_sales_data[0:5]}')"
   ]
  },
  {
   "cell_type": "code",
   "execution_count": null,
   "id": "ae8b8351-5264-4a46-8502-7a8998a822d8",
   "metadata": {},
   "outputs": [],
   "source": [
    "print(f'Bottom 5 Item Descriptions by Retail Sales: \\n{rdesc_sales_data[len(rdesc_sales_data)-5:len(rdesc_sales_data)]}')"
   ]
  },
  {
   "cell_type": "code",
   "execution_count": null,
   "id": "372547eb-2d50-4660-9b0f-7fcba09b805a",
   "metadata": {},
   "outputs": [],
   "source": [
    "fig5 = px.bar(x=wdesc, y=wdesc_sales)\n",
    "\n",
    "fig5.update_layout(\n",
    "    title='Item Description by Warehouse Sales (Top 1%)',\n",
    "    xaxis_title='Item Description',\n",
    "    yaxis_title='Warehouse Sales'\n",
    ")\n",
    "\n",
    "fig5.show()"
   ]
  },
  {
   "cell_type": "code",
   "execution_count": null,
   "id": "3513075c-fb46-4a28-bfea-0fc46d12b385",
   "metadata": {},
   "outputs": [],
   "source": [
    "print(f'Top 5 Item Descriptions by Warehouse Sales: \\n{wdesc_sales_data[0:5]}')"
   ]
  },
  {
   "cell_type": "code",
   "execution_count": null,
   "id": "0734e229-4832-4f4c-8568-b5fb39595284",
   "metadata": {},
   "outputs": [],
   "source": [
    "print(f'Bottom 5 Item Descriptions by Warehouse Sales: \\n{wdesc_sales_data[len(wdesc_sales_data)-5:len(wdesc_sales_data)]}')"
   ]
  },
  {
   "cell_type": "markdown",
   "id": "3aeb5336-c096-4af1-87bc-4ef62274087d",
   "metadata": {},
   "source": [
    "### Thank for looking through this notebook! \n",
    "#### Any questions, comments, or suggestions would be greatly appreciated!"
   ]
  }
 ],
 "metadata": {
  "kernelspec": {
   "display_name": "Python 3 (ipykernel)",
   "language": "python",
   "name": "python3"
  },
  "language_info": {
   "codemirror_mode": {
    "name": "ipython",
    "version": 3
   },
   "file_extension": ".py",
   "mimetype": "text/x-python",
   "name": "python",
   "nbconvert_exporter": "python",
   "pygments_lexer": "ipython3",
   "version": "3.10.9"
  }
 },
 "nbformat": 4,
 "nbformat_minor": 5
}
